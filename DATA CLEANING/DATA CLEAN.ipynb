{
 "cells": [
  {
   "cell_type": "markdown",
   "id": "e487138a-e777-4d63-9b2f-a20c3c1e6b96",
   "metadata": {},
   "source": [
    "IMPORTING THE REQUIRED REPOSITORIES"
   ]
  },
  {
   "cell_type": "code",
   "execution_count": 11,
   "id": "5299016b-e534-48fc-ab71-173f860b9abd",
   "metadata": {},
   "outputs": [],
   "source": [
    "import pandas as pd"
   ]
  },
  {
   "cell_type": "markdown",
   "id": "d5a83d62-b259-4e19-b79b-b800334acea5",
   "metadata": {},
   "source": [
    "LOADING DATASET"
   ]
  },
  {
   "cell_type": "code",
   "execution_count": 12,
   "id": "c0e00eba-4aa8-42d1-b692-5c4c1484fe92",
   "metadata": {},
   "outputs": [],
   "source": [
    "df = pd.read_csv('Unclean-amazon Dataset.csv')"
   ]
  },
  {
   "cell_type": "markdown",
   "id": "3531ea14-c73d-401c-abfd-a9914aa0522f",
   "metadata": {},
   "source": [
    "CLEANING COLUMNS"
   ]
  },
  {
   "cell_type": "code",
   "execution_count": 13,
   "id": "e3c63dec-0b7e-4207-b051-d3b67c564197",
   "metadata": {},
   "outputs": [],
   "source": [
    "df['discounted_price'] = df['discounted_price'].str.replace('₹', '').str.replace(',', '').astype(float)\n",
    "df['actual_price'] = df['actual_price'].str.replace('₹', '').str.replace(',', '').astype(float)\n",
    "df['discount_percentage'] = df['discount_percentage'].str.replace('%', '').astype(float)\n",
    "df['rating'] = pd.to_numeric(df['rating'], errors='coerce')\n",
    "df['rating_count'] = df['rating_count'].str.replace(',', '').astype(float)"
   ]
  },
  {
   "cell_type": "code",
   "execution_count": 14,
   "id": "102cb634-6dbe-4d1d-b8ac-cc00940dd957",
   "metadata": {
    "scrolled": true
   },
   "outputs": [
    {
     "name": "stdout",
     "output_type": "stream",
     "text": [
      "product_id              object\n",
      "product_name            object\n",
      "category                object\n",
      "discounted_price       float64\n",
      "actual_price           float64\n",
      "discount_percentage    float64\n",
      "rating                 float64\n",
      "rating_count           float64\n",
      "about_product           object\n",
      "user_id                 object\n",
      "user_name               object\n",
      "review_id               object\n",
      "review_title            object\n",
      "review_content          object\n",
      "img_link                object\n",
      "product_link            object\n",
      "dtype: object\n"
     ]
    }
   ],
   "source": [
    "print(df.dtypes)"
   ]
  },
  {
   "cell_type": "markdown",
   "id": "0b02b192-ab89-4d5d-aaf1-e1643ae52cf1",
   "metadata": {},
   "source": [
    "CHECK FOR MISSING VALUE"
   ]
  },
  {
   "cell_type": "code",
   "execution_count": 15,
   "id": "97906116-6633-4eb5-9811-7fb7e60e9c02",
   "metadata": {},
   "outputs": [
    {
     "data": {
      "text/plain": [
       "rating          1\n",
       "rating_count    2\n",
       "dtype: int64"
      ]
     },
     "execution_count": 15,
     "metadata": {},
     "output_type": "execute_result"
    }
   ],
   "source": [
    "missing_values = df.isnull().sum()\n",
    "missing_values[missing_values > 0]"
   ]
  },
  {
   "cell_type": "markdown",
   "id": "2ed0608e-5450-4569-a6e4-123fbd5f864a",
   "metadata": {},
   "source": [
    "DROPPING THE MISSING VALUES"
   ]
  },
  {
   "cell_type": "code",
   "execution_count": 16,
   "id": "0a2ab5ed-13ba-4bcc-ae44-97da95712a75",
   "metadata": {},
   "outputs": [
    {
     "name": "stdout",
     "output_type": "stream",
     "text": [
      "rating          1\n",
      "rating_count    2\n",
      "dtype: int64\n",
      "rating          0\n",
      "rating_count    0\n",
      "dtype: int64\n",
      "Old shape: (1465, 16)\n",
      "New shape: (1462, 16)\n"
     ]
    }
   ],
   "source": [
    "# Check missing values first\n",
    "print(df[['rating', 'rating_count']].isnull().sum())\n",
    "\n",
    "# Drop rows where rating or rating_count is NaN\n",
    "df_cleaned = df.dropna(subset=['rating', 'rating_count'])\n",
    "\n",
    "# Confirm they're gone\n",
    "print(df_cleaned[['rating', 'rating_count']].isnull().sum())\n",
    "\n",
    "# Check new shape\n",
    "print(\"Old shape:\", df.shape)\n",
    "print(\"New shape:\", df_cleaned.shape)"
   ]
  },
  {
   "cell_type": "markdown",
   "id": "fce7d47b-76b0-463b-ae42-aabd745d064f",
   "metadata": {},
   "source": [
    "SUMMARIZE THE PRODUCT CATEGORY"
   ]
  },
  {
   "cell_type": "code",
   "execution_count": 17,
   "id": "11895f58-d408-4d8d-80d9-0fd0bbf6d698",
   "metadata": {},
   "outputs": [],
   "source": [
    "df['category'] = df['category'].str.split('|').str[-1].str.strip()"
   ]
  },
  {
   "cell_type": "code",
   "execution_count": 18,
   "id": "a819521b-e48a-48f8-9fc6-e596eca10ba2",
   "metadata": {
    "collapsed": true,
    "jupyter": {
     "outputs_hidden": true
    },
    "scrolled": true
   },
   "outputs": [
    {
     "name": "stdout",
     "output_type": "stream",
     "text": [
      "category\n",
      "USBCables           233\n",
      "SmartWatches         76\n",
      "Smartphones          68\n",
      "SmartTelevisions     63\n",
      "In-Ear               52\n",
      "RemoteControls       49\n",
      "MixerGrinders        27\n",
      "Mice                 24\n",
      "HDMICables           24\n",
      "DryIrons             24\n",
      "Name: count, dtype: int64\n"
     ]
    }
   ],
   "source": [
    "print(df['category'].value_counts().head(10))\n"
   ]
  },
  {
   "cell_type": "markdown",
   "id": "1424fa39-df4e-487b-bbe5-7342fc723c59",
   "metadata": {},
   "source": [
    "SAVING CLEAN DATASET"
   ]
  },
  {
   "cell_type": "code",
   "execution_count": 19,
   "id": "ec06f88c-f610-4f49-bae1-715e7c3bf3c1",
   "metadata": {},
   "outputs": [],
   "source": [
    "df.to_csv('Cleaned-amazon-Dataset.csv', index=False)"
   ]
  },
  {
   "cell_type": "code",
   "execution_count": null,
   "id": "bd4e8e35-4c9a-49d4-a70e-2ab0c3046e9a",
   "metadata": {},
   "outputs": [],
   "source": []
  }
 ],
 "metadata": {
  "kernelspec": {
   "display_name": "Python 3 (ipykernel)",
   "language": "python",
   "name": "python3"
  },
  "language_info": {
   "codemirror_mode": {
    "name": "ipython",
    "version": 3
   },
   "file_extension": ".py",
   "mimetype": "text/x-python",
   "name": "python",
   "nbconvert_exporter": "python",
   "pygments_lexer": "ipython3",
   "version": "3.13.1"
  }
 },
 "nbformat": 4,
 "nbformat_minor": 5
}
